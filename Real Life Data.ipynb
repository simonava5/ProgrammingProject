{
 "cells": [
  {
   "cell_type": "markdown",
   "metadata": {},
   "source": [
    "![GMITLOGO](https://www.pchei.ie/images/college_crests/gmit_crest.jpg)\n",
    "\n",
    "# Programming for Data Analysis - Project \n",
    "\n",
    "By Simona Vasiliauskaite G00263352\n",
    "\n",
    "**Main Objective**\n",
    "\n",
    "Create a data set by simulating a real-world phenomenon of your choosing.\n",
    "\n",
    "**Tasks:**\n",
    "\n",
    "* Choose a real-world phenomenon that can be measured and collect at least one-hundred data points across at least four different variables.\n",
    "* Investigate the types of variables involved, their likely distributions, and their relationships with each other.\n",
    "* Synthesise/simulate a data set as closely matching their properties as possible.\n",
    "* Detail research and implement the simulation in a Jupyter notebook."
   ]
  },
  {
   "cell_type": "markdown",
   "metadata": {},
   "source": [
    "# 1. Chosen Real Life Phenomenon"
   ]
  },
  {
   "cell_type": "markdown",
   "metadata": {},
   "source": [
    "I have chosen to analyse social media usage across Ireland and how it may impact customer purchasing behaviour.\n",
    "\n",
    "It goes without saying that we live in an age where technology proliferates and prevails. It shapes the way we work and live. And sad as it may be, it also dictates how we think and act too. According to the world at large, we’re a bunch of digital obsessives that live through the lens of our smartphones, addicted to scrolling, refreshing and then scrolling some more. Below are some digital and social media statistics that tell us how Irish people act online in 2018. (1)\n",
    "\n",
    "**What accounts are most popular?**\n",
    "\n",
    "* 65% have a Facebook account, 69% of whom access it daily \n",
    "* 27% have a Linkedin account, 18% of whom access it daily \n",
    "* 32% have an Instagram account, 51% of whom access it daily\n",
    "* 29% have a Twitter account, 37% of whom access it daily\n",
    "* 40% of us now use WhatsApp (Reuters, 2017) (2)\n",
    "\n",
    "![Social Media](http://i2.wp.com/communicationshub.ie/wp-content/uploads/2018/02/account-ownership-nov17.jpg)\n",
    "\n",
    "**It also influences our purchasing desicions**\n",
    "\n",
    "Social media is the most influential tool for Irish consumers when finding inspiration for purchases, particularly for younger age groups. Millennials and Generation Z consumers are more likely to make purchases when retailers actively engage on social media with this age grouping. Irish consumers cited social media (38%) as the most influential channel along with individual retailer websites for inspiring purchases. Social media ranked higher than other online media channels, such as blogs and digital press and magazines. With 90% of 18-24 year olds using social media to inspire purchases, this is a key demographic group in terms of encouraging social media engagement.(4)\n",
    "\n",
    "* Finding information about goods and services (86%) was the most common activity carried out on the internet by Irish individuals (CSO, 2017)  \n",
    "* Over a quarter of us have purchased online six or more times in the last three months (CSO, 2017)\n",
    "* Ireland is ranked ninth in the EU when it comes to online shopping, up from thirteenth the year before (European Commission, 2017)\n",
    "* 58% of large enterprises in Ireland experienced e-commerce sales in the last year – accounting for 43% of their sales in total (CSO, 2017)\n",
    "* Clothes or sports goods were the most popular online purchase in 2017, purchased by 44% of individuals.\n",
    "\n",
    "**Shopping on Mobiles Phones**\n",
    "\n",
    "The smartphone has become intertwined into our daily lives, with ninety eight percent of smartphone owners using their devices on a daily basis. Smartphone capabilities and utilities are becoming ever greater and usage continues to evolve. Websites must be mobile-enabled as mobile devices are becoming a key purchasing tool when shopping online. Mobile payments are set to double by 2023 so retailers need to ensure that they have smooth, effective mobile payment options in-store.(5)\n",
    " \n",
    "* 90% of Irish adults own a smartphone \n",
    "* 97% of people have access to some form of mobile phone (smartphone/phone).\n",
    "* The number of +65 year olds with access to an e-reader has increased from 30% to 45%.\n",
    "* Access to tablets among the 65+ market has grown from 57% in 2017 to 70% in 2018.\n",
    "* 82% of consumers have access to a connected device.\n",
    "* Irish adults look at their mobile phone 57 times a day. That’s in comparison to a European average of 41 times\n",
    "* 16% admit to looking at their phone more than 100 times a day against a European average of 8%\n",
    "* Just under one in three of us check our phone within five minutes of going to sleep\n",
    "* More than half of us think we use our phone too much – nearly 60% of us think our partners do\n",
    "* 68% of 18-24 year olds watch live videos or stories on social media on a daily basis. (5)\n",
    "\n",
    "**Age Group**\n",
    "\n",
    "Instagram took the top spot for people aged between 18 and 34. Facebook reclaims the top spot for people aged 35 to 54 where Instagram dropped to third place behind Twitter. (6)"
   ]
  },
  {
   "cell_type": "code",
   "execution_count": 1,
   "metadata": {
    "collapsed": true
   },
   "outputs": [],
   "source": [
    "# Import Python libraries\n",
    "\n",
    "import numpy as np\n",
    "import pandas as pd\n",
    "import matplotlib.pyplot as plt\n",
    "import seaborn as sns"
   ]
  },
  {
   "cell_type": "markdown",
   "metadata": {},
   "source": [
    "# 2. Variables involved, their likely distributions, and their relationships with each other."
   ]
  },
  {
   "cell_type": "markdown",
   "metadata": {
    "collapsed": true
   },
   "source": [
    "I will investigate 5 variables across a dataset of 3.3 million social media users in Ireland.\n",
    "\n",
    "**Variables:**\n",
    "\n",
    "1. User's Age: 15-65 \n",
    "2. Sex: Female or Male\n",
    "3. Hours spent on a phone per day: 0-24 (hours)\n",
    "4. Apps Downloaded: Facebook, Instagram, Pinterest, Twitter, WhatsAapp (Min 1 - Max 5)\n",
    "5. Own a Smartphone: 0-100 (%)"
   ]
  },
  {
   "cell_type": "markdown",
   "metadata": {},
   "source": [
    "## 1. Variable - Age Distribution\n",
    "\n",
    "Let's look at the age distribution among 3.3 million social media users in Ireland. Statistics showed that average users age is around 34, minimum age for account creation is 15 and people up to age 65+ were active users."
   ]
  },
  {
   "cell_type": "code",
   "execution_count": 2,
   "metadata": {},
   "outputs": [
    {
     "data": {
      "text/plain": [
       "array([ 33.,  26.,  33., ...,  33.,  27.,  30.])"
      ]
     },
     "execution_count": 2,
     "metadata": {},
     "output_type": "execute_result"
    }
   ],
   "source": [
    "np.random.triangular(15, 34, 65, 3300000).round(0)"
   ]
  },
  {
   "cell_type": "code",
   "execution_count": 3,
   "metadata": {},
   "outputs": [
    {
     "data": {
      "image/png": "[encoded data removed]",
      "text/plain": [
       "<matplotlib.figure.Figure at 0x2151b1a9fd0>"
      ]
     },
     "metadata": {},
     "output_type": "display_data"
    }
   ],
   "source": [
    "# Create plot\n",
    "plt.hist(np.random.triangular(15, 34, 65, 3300000), bins=10,\n",
    "             normed=True, edgecolor='k')\n",
    "plt.ylabel('Frequency') # Label y axis\n",
    "plt.xlabel('User Age') # Label x axis\n",
    "plt.title('Social Media User Age') # Add title\n",
    "plt.show() # Show Plot"
   ]
  },
  {
   "cell_type": "markdown",
   "metadata": {},
   "source": [
    "## 2. Variable - Gender Distribution"
   ]
  },
  {
   "cell_type": "code",
   "execution_count": 4,
   "metadata": {},
   "outputs": [
    {
     "data": {
      "text/plain": [
       "array([1, 2, 2, ..., 2, 2, 2])"
      ]
     },
     "execution_count": 4,
     "metadata": {},
     "output_type": "execute_result"
    }
   ],
   "source": [
    "# Male = 1 \n",
    "# Female = 2\n",
    "\n",
    "np.random.seed(12345) # I did a seed reset so the numbers stay the same every time\n",
    "\n",
    "Gender = np.random.randint(1, 3, 3300000) # 1 - males, 3 - females but not included, 3.3 million users \n",
    "Gender"
   ]
  },
  {
   "cell_type": "code",
   "execution_count": 5,
   "metadata": {
    "scrolled": true
   },
   "outputs": [
    {
     "data": {
      "image/png": "[encoded data removed]",
      "text/plain": [
       "<matplotlib.figure.Figure at 0x2151b1a9eb8>"
      ]
     },
     "metadata": {},
     "output_type": "display_data"
    }
   ],
   "source": [
    "# Plot data in a histrogram\n",
    "plt.hist(Gender, bins=3, edgecolor='k')\n",
    "plt.ylabel(\"Users\") # Label y axis\n",
    "plt.xlabel(\"Gender - Male or Female\") # Label x axis\n",
    "plt.show() # Show plot"
   ]
  },
  {
   "cell_type": "markdown",
   "metadata": {},
   "source": [
    "We can see from histogram above that the gender distribution is even."
   ]
  },
  {
   "cell_type": "markdown",
   "metadata": {},
   "source": [
    "## 3. Variable - Phone Usage\n",
    "\n",
    "Let's see the distribution of a user checking their phone every day. Statistics taken from above show that on average a person checks their phone 57 times a day. "
   ]
  },
  {
   "cell_type": "code",
   "execution_count": 6,
   "metadata": {},
   "outputs": [
    {
     "data": {
      "text/plain": [
       "array([ 51.,  54.,  57., ...,  58.,  58.,  56.])"
      ]
     },
     "execution_count": 6,
     "metadata": {},
     "output_type": "execute_result"
    }
   ],
   "source": [
    "Usage = np.random.normal(57,3,3300000). round(0)\n",
    "Usage"
   ]
  },
  {
   "cell_type": "code",
   "execution_count": 7,
   "metadata": {},
   "outputs": [
    {
     "data": {
      "text/plain": [
       "42.0"
      ]
     },
     "execution_count": 7,
     "metadata": {},
     "output_type": "execute_result"
    }
   ],
   "source": [
    "min(Usage) # Check for minimum amount of phone usage per day"
   ]
  },
  {
   "cell_type": "code",
   "execution_count": 8,
   "metadata": {},
   "outputs": [
    {
     "data": {
      "text/plain": [
       "74.0"
      ]
     },
     "execution_count": 8,
     "metadata": {},
     "output_type": "execute_result"
    }
   ],
   "source": [
    "max(Usage) # Check for maximum amount of times a phone is used"
   ]
  },
  {
   "cell_type": "code",
   "execution_count": 9,
   "metadata": {
    "scrolled": true
   },
   "outputs": [
    {
     "data": {
      "image/png": "[encoded data removed]",
      "text/plain": [
       "<matplotlib.figure.Figure at 0x2151b1a9a20>"
      ]
     },
     "metadata": {},
     "output_type": "display_data"
    }
   ],
   "source": [
    "plt.hist(Usage,bins=73, edgecolor='k') # Add sample count, amount of bins, and edgecolour of the bins\n",
    "plt.ylabel('Users') # Label y axis\n",
    "plt.xlabel('Times') # Label x axis \n",
    "plt.title('Times Looked at a Phone Daily') # Add title\n",
    "plt.show() # Show Plot"
   ]
  },
  {
   "cell_type": "markdown",
   "metadata": {},
   "source": [
    "## 4. Variable - Social Media Apps\n",
    "\n",
    "I would also like to see possible distribution of the amount of social media platforms a person may use or download. In the above statistics it is stated that a person has at least one social media app downloaded and most popular ones are Facebook, Instagram, Twitter, WhatsApp and Pinterest so I will say a person on average has 5 social media accounts downloaded. "
   ]
  },
  {
   "cell_type": "code",
   "execution_count": 10,
   "metadata": {},
   "outputs": [
    {
     "data": {
      "text/plain": [
       "array([ 4.,  2.,  2., ...,  1.,  2.,  4.])"
      ]
     },
     "execution_count": 10,
     "metadata": {},
     "output_type": "execute_result"
    }
   ],
   "source": [
    "social = np.random.uniform(1, 5, 3300000).round(0)\n",
    "social"
   ]
  },
  {
   "cell_type": "code",
   "execution_count": 11,
   "metadata": {},
   "outputs": [
    {
     "data": {
      "text/plain": [
       "1.0"
      ]
     },
     "execution_count": 11,
     "metadata": {},
     "output_type": "execute_result"
    }
   ],
   "source": [
    "min(social)"
   ]
  },
  {
   "cell_type": "code",
   "execution_count": 12,
   "metadata": {},
   "outputs": [
    {
     "data": {
      "text/plain": [
       "5.0"
      ]
     },
     "execution_count": 12,
     "metadata": {},
     "output_type": "execute_result"
    }
   ],
   "source": [
    "max(social)"
   ]
  },
  {
   "cell_type": "code",
   "execution_count": 13,
   "metadata": {},
   "outputs": [
    {
     "ename": "NameError",
     "evalue": "name 'y_pos' is not defined",
     "output_type": "error",
     "traceback": [
      "\u001b[1;31m---------------------------------------------------------------------------\u001b[0m",
      "\u001b[1;31mNameError\u001b[0m                                 Traceback (most recent call last)",
      "\u001b[1;32m<ipython-input-13-07982313fb46>\u001b[0m in \u001b[0;36m<module>\u001b[1;34m()\u001b[0m\n\u001b[0;32m      4\u001b[0m \u001b[1;33m\u001b[0m\u001b[0m\n\u001b[0;32m      5\u001b[0m \u001b[1;31m# Create bars\u001b[0m\u001b[1;33m\u001b[0m\u001b[1;33m\u001b[0m\u001b[0m\n\u001b[1;32m----> 6\u001b[1;33m \u001b[0mplt\u001b[0m\u001b[1;33m.\u001b[0m\u001b[0mbar\u001b[0m\u001b[1;33m(\u001b[0m\u001b[0my_pos\u001b[0m\u001b[1;33m,\u001b[0m \u001b[0mheight\u001b[0m\u001b[1;33m)\u001b[0m\u001b[1;33m\u001b[0m\u001b[0m\n\u001b[0m\u001b[0;32m      7\u001b[0m \u001b[1;33m\u001b[0m\u001b[0m\n\u001b[0;32m      8\u001b[0m \u001b[1;31m# Create names on the x-axis\u001b[0m\u001b[1;33m\u001b[0m\u001b[1;33m\u001b[0m\u001b[0m\n",
      "\u001b[1;31mNameError\u001b[0m: name 'y_pos' is not defined"
     ]
    }
   ],
   "source": [
    "# Create data \n",
    "height = [65, 32, 40, 27, 21]\n",
    "bars = ('Facebook', 'Instagram', 'WhatsApp', 'LinkedIn', 'Pinterest')\n",
    "\n",
    "# Create bars\n",
    "plt.bar(y_pos, height)\n",
    "\n",
    "# Create names on the x-axis\n",
    "plt.xticks(y_pos, bars)\n",
    "plt.xlabel('Social Media Apps', fontweight='bold', color = 'black')\n",
    "plt.ylabel(\"Percentage\")\n",
    "plt.title(\"Social Media Apps Downloaded\")\n",
    "plt.show()"
   ]
  },
  {
   "cell_type": "markdown",
   "metadata": {},
   "source": [
    "## 5. Variable - Smartphone Ownership\n",
    "\n",
    "Statistics show that 90% of Irish adults own a smartphone. 97% of people have access to some form of mobile phone (smartphone/phone)."
   ]
  },
  {
   "cell_type": "code",
   "execution_count": null,
   "metadata": {},
   "outputs": [],
   "source": [
    "s = np.random.normal(0, 1, 3300000).round()\n",
    "s"
   ]
  },
  {
   "cell_type": "code",
   "execution_count": null,
   "metadata": {},
   "outputs": [],
   "source": [
    "min(s)"
   ]
  },
  {
   "cell_type": "markdown",
   "metadata": {},
   "source": [
    "# 3. Data Simulation"
   ]
  },
  {
   "cell_type": "markdown",
   "metadata": {},
   "source": [
    "# 4. Conlusion"
   ]
  },
  {
   "cell_type": "markdown",
   "metadata": {},
   "source": [
    "-------------------------------------------------------------------------------------------------------------------------"
   ]
  },
  {
   "cell_type": "markdown",
   "metadata": {},
   "source": [
    " # References"
   ]
  },
  {
   "cell_type": "markdown",
   "metadata": {},
   "source": [
    "1. https://www.neworld.com/newsblog/2018/irelands-digital-and-social-statistics/\n",
    "2. https://www.cso.ie/en/releasesandpublications/er/isshh/informationsocietystatistics-households2017/\n",
    "3. http://communicationshub.ie/blog/2018/02/24/latest-social-media-stats-ireland/\n",
    "4. https://www.pwc.ie/publications/2018/retail-consumer-report-2018.pdf\n",
    "5. https://www2.deloitte.com/ie/en/pages/technology-media-and-telecommunications/articles/global-mobile-consumer-survey0.html\n",
    "6. https://irishtechnews.ie/71-of-irish-adults-enjoy-using-facebook-and-instagram/"
   ]
  },
  {
   "cell_type": "code",
   "execution_count": null,
   "metadata": {
    "collapsed": true
   },
   "outputs": [],
   "source": []
  }
 ],
 "metadata": {
  "kernelspec": {
   "display_name": "Python 3",
   "language": "python",
   "name": "python3"
  },
  "language_info": {
   "codemirror_mode": {
    "name": "ipython",
    "version": 3
   },
   "file_extension": ".py",
   "mimetype": "text/x-python",
   "name": "python",
   "nbconvert_exporter": "python",
   "pygments_lexer": "ipython3",
   "version": "3.6.6"
  }
 },
 "nbformat": 4,
 "nbformat_minor": 2
}
